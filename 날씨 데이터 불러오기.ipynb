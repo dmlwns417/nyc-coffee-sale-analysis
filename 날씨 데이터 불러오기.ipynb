{
 "cells": [
  {
   "cell_type": "markdown",
   "id": "b009f0a8",
   "metadata": {},
   "source": [
    "# 날짜, 시간, 지역 별 데이터 불러오기\n",
    "## 지금의 데이터는 지역이 총 3곳: NY의 Astoria, Hell's Kitchen, and Lower Manhattan"
   ]
  },
  {
   "cell_type": "code",
   "execution_count": 8,
   "id": "42eff369",
   "metadata": {},
   "outputs": [],
   "source": [
    "### 아래 코드는 시간별 날짜를 제공하지 않음."
   ]
  },
  {
   "cell_type": "code",
   "execution_count": 21,
   "id": "7741aa63",
   "metadata": {
    "scrolled": true
   },
   "outputs": [],
   "source": [
    "# from meteostat import Point, Daily\n",
    "# import pandas as pd\n",
    "# from datetime import datetime\n",
    "\n",
    "# # 지역 설정\n",
    "# locations = {\n",
    "#     \"Astoria\": Point(40.7644, -73.9235, 0),\n",
    "#     \"Hell's Kitchen\": Point(40.7648, -73.9922, 0),\n",
    "#     \"Lower Manhattan\": Point(40.7131, -74.0072, 0)\n",
    "# }\n",
    "\n",
    "# # 날짜 범위 설정 (datetime 객체로 변환)\n",
    "# start = datetime(2023, 1, 1)\n",
    "# end = datetime(2023, 6, 30)\n",
    "\n",
    "# # 데이터를 저장할 리스트\n",
    "# all_data = []\n",
    "\n",
    "# # 각 지역에 대해 데이터 요청\n",
    "# for name, location in locations.items():\n",
    "#     data = Daily(location, start, end)\n",
    "#     data = data.fetch()\n",
    "#     data['Location'] = name  # 지역 이름 추가\n",
    "#     all_data.append(data)\n",
    "\n",
    "# # 모든 데이터를 하나의 데이터프레임으로 결합\n",
    "# combined_data = pd.concat(all_data)\n",
    "\n",
    "# # 결과 출력\n",
    "# print(combined_data)\n",
    "\n",
    "# # CSV 파일로 저장 (옵션)\n",
    "# combined_data.to_csv(\"weather_data22.csv\")\n"
   ]
  },
  {
   "cell_type": "code",
   "execution_count": 22,
   "id": "1dbdeb89",
   "metadata": {},
   "outputs": [],
   "source": [
    "### 아래 코드는 시간별 날짜 데이터 까지 제공."
   ]
  },
  {
   "cell_type": "code",
   "execution_count": 32,
   "id": "2c23c95c",
   "metadata": {},
   "outputs": [
    {
     "name": "stdout",
     "output_type": "stream",
     "text": [
      "                     temp  dwpt  rhum  prcp  snow   wdir  wspd  wpgt    pres  \\\n",
      "time                                                                           \n",
      "2023-01-01 00:00:00  10.0   8.9  93.0   1.1   NaN   30.0   6.0   NaN  1011.0   \n",
      "2023-01-01 01:00:00  12.0  10.9  93.0   1.4   NaN  250.0   6.0   NaN  1010.0   \n",
      "2023-01-01 02:00:00  12.0  11.5  97.0   0.5   NaN  223.0  10.4   NaN  1010.0   \n",
      "2023-01-01 03:00:00  13.0  11.2  89.0   0.7   NaN  280.0   9.0   NaN  1009.0   \n",
      "2023-01-01 04:00:00  12.2  11.1  93.0   1.3   NaN    0.0   0.0   NaN  1007.0   \n",
      "...                   ...   ...   ...   ...   ...    ...   ...   ...     ...   \n",
      "2023-06-30 19:00:00  28.3  13.8  41.0   0.0   NaN  163.0  11.2   NaN  1016.6   \n",
      "2023-06-30 20:00:00  27.0  16.0  51.0   0.0   NaN  161.0  18.4   NaN  1018.0   \n",
      "2023-06-30 21:00:00  26.1  16.1  54.0   0.0   NaN  162.0  19.8   NaN  1016.7   \n",
      "2023-06-30 22:00:00  25.6  14.4  50.0   0.0   NaN  152.0  20.2   NaN  1016.7   \n",
      "2023-06-30 23:00:00  24.4  14.5  54.0   0.0   NaN  148.0  17.6   NaN  1016.9   \n",
      "\n",
      "                     tsun  coco location  \n",
      "time                                      \n",
      "2023-01-01 00:00:00   NaN   9.0  Astoria  \n",
      "2023-01-01 01:00:00   NaN   9.0  Astoria  \n",
      "2023-01-01 02:00:00   NaN   8.0  Astoria  \n",
      "2023-01-01 03:00:00   NaN   8.0  Astoria  \n",
      "2023-01-01 04:00:00   NaN   9.0  Astoria  \n",
      "...                   ...   ...      ...  \n",
      "2023-06-30 19:00:00   NaN   5.0  Astoria  \n",
      "2023-06-30 20:00:00   NaN   5.0  Astoria  \n",
      "2023-06-30 21:00:00   NaN   5.0  Astoria  \n",
      "2023-06-30 22:00:00   NaN   5.0  Astoria  \n",
      "2023-06-30 23:00:00   NaN   5.0  Astoria  \n",
      "\n",
      "[4344 rows x 12 columns]\n"
     ]
    }
   ],
   "source": [
    "from meteostat import Point, Hourly\n",
    "import pandas as pd\n",
    "from datetime import datetime\n",
    "\n",
    "# 특정 지역 설정 (Astoria 예시)\n",
    "location = Point(40.7644, -73.9235, 0)\n",
    "\n",
    "# 날짜 및 시간 범위 설정\n",
    "start = datetime(2023, 1, 1, 0)\n",
    "end = datetime(2023, 6, 30, 23)\n",
    "\n",
    "# 데이터 요청\n",
    "data = Hourly(location, start, end)\n",
    "data = data.fetch()\n",
    "\n",
    "# 새로운 컬럼 'location' 추가\n",
    "data['location'] = 'Astoria'\n",
    "\n",
    "print(data)\n",
    "\n",
    "# 제거할 컬럼 정의\n",
    "columns_to_remove = ['snow', 'wpgt', 'tsun']\n",
    "\n",
    "# 지정된 컬럼 제거\n",
    "data = data.drop(columns=columns_to_remove, errors='ignore')"
   ]
  },
  {
   "cell_type": "code",
   "execution_count": 33,
   "id": "e1f15e85",
   "metadata": {},
   "outputs": [
    {
     "name": "stdout",
     "output_type": "stream",
     "text": [
      "데이터가 'astoria_hourly_weather.csv'로 저장되었습니다.\n"
     ]
    }
   ],
   "source": [
    "# CSV로 저장\n",
    "csv_filename = \"astoria_hourly_weather.csv\"  # 저장할 파일 이름\n",
    "data.to_csv(csv_filename, index=True, encoding='utf-8')  # 인덱스를 포함해서 저장\n",
    "print(f\"데이터가 '{csv_filename}'로 저장되었습니다.\")"
   ]
  },
  {
   "cell_type": "code",
   "execution_count": 29,
   "id": "9b278e43",
   "metadata": {},
   "outputs": [
    {
     "name": "stdout",
     "output_type": "stream",
     "text": [
      "데이터가 'Hells_Kitchen_hourly_weather.csv'로 저장되었습니다.\n",
      "                     temp  dwpt  rhum  prcp   wdir  wspd    pres  coco  \\\n",
      "time                                                                     \n",
      "2023-01-01 00:00:00  10.0   8.9  93.0   1.1   30.0   6.0  1011.0   9.0   \n",
      "2023-01-01 01:00:00  12.0  10.9  93.0   1.4  250.0   6.0  1010.0   9.0   \n",
      "2023-01-01 02:00:00  12.0  11.5  97.0   0.5  223.0  10.4  1010.0   8.0   \n",
      "2023-01-01 03:00:00  13.0  11.2  89.0   0.7  280.0   9.0  1009.0   8.0   \n",
      "2023-01-01 04:00:00  12.2  11.1  93.0   1.3    0.0   0.0  1007.0   9.0   \n",
      "...                   ...   ...   ...   ...    ...   ...     ...   ...   \n",
      "2023-06-30 19:00:00  28.3  13.8  41.0   0.0  163.0  11.2  1016.6   5.0   \n",
      "2023-06-30 20:00:00  27.0  16.0  51.0   0.0  161.0  18.4  1018.0   5.0   \n",
      "2023-06-30 21:00:00  26.1  16.1  54.0   0.0  162.0  19.8  1016.7   5.0   \n",
      "2023-06-30 22:00:00  25.6  14.4  50.0   0.0  152.0  20.2  1016.7   5.0   \n",
      "2023-06-30 23:00:00  24.4  14.5  54.0   0.0  148.0  17.6  1016.9   5.0   \n",
      "\n",
      "                           location  \n",
      "time                                 \n",
      "2023-01-01 00:00:00  Hell's Kitchen  \n",
      "2023-01-01 01:00:00  Hell's Kitchen  \n",
      "2023-01-01 02:00:00  Hell's Kitchen  \n",
      "2023-01-01 03:00:00  Hell's Kitchen  \n",
      "2023-01-01 04:00:00  Hell's Kitchen  \n",
      "...                             ...  \n",
      "2023-06-30 19:00:00  Hell's Kitchen  \n",
      "2023-06-30 20:00:00  Hell's Kitchen  \n",
      "2023-06-30 21:00:00  Hell's Kitchen  \n",
      "2023-06-30 22:00:00  Hell's Kitchen  \n",
      "2023-06-30 23:00:00  Hell's Kitchen  \n",
      "\n",
      "[4344 rows x 9 columns]\n"
     ]
    }
   ],
   "source": [
    "location = Point(40.7648, -73.9922, 0)\n",
    "\n",
    "# 날짜 및 시간 범위 설정\n",
    "start = datetime(2023, 1, 1, 0)\n",
    "end = datetime(2023, 6, 30, 23)\n",
    "\n",
    "# 데이터 요청\n",
    "data = Hourly(location, start, end)\n",
    "data = data.fetch()\n",
    "\n",
    "# 새로운 컬럼 'location' 추가\n",
    "data['location'] = \"Hell's Kitchen\"\n",
    "\n",
    "# 제거할 컬럼 정의\n",
    "columns_to_remove = ['snow', 'wpgt', 'tsun']\n",
    "\n",
    "# 지정된 컬럼 제거\n",
    "data = data.drop(columns=columns_to_remove, errors='ignore')\n",
    "\n",
    "# CSV로 저장\n",
    "csv_filename = \"Hells_Kitchen_hourly_weather.csv\"  # 저장할 파일 이름\n",
    "data.to_csv(csv_filename, index=True, encoding='utf-8')  # 인덱스를 포함해서 저장\n",
    "print(f\"데이터가 '{csv_filename}'로 저장되었습니다.\")\n",
    "print(data)\n"
   ]
  },
  {
   "cell_type": "code",
   "execution_count": 30,
   "id": "8e5afb6c",
   "metadata": {},
   "outputs": [
    {
     "name": "stdout",
     "output_type": "stream",
     "text": [
      "데이터가 'Lower Manhattan_hourly_weather.csv'로 저장되었습니다.\n",
      "                     temp  dwpt   rhum  prcp   wdir  wspd    pres  coco  \\\n",
      "time                                                                      \n",
      "2023-01-01 00:00:00   9.9   9.9  100.0   1.0  220.0   7.6  1010.0   5.0   \n",
      "2023-01-01 01:00:00  10.0  10.0  100.0   0.5  220.0   5.4  1010.0   9.0   \n",
      "2023-01-01 02:00:00  10.5  10.5  100.0   1.0  210.0   7.6  1009.0   8.0   \n",
      "2023-01-01 03:00:00  10.6  10.4   99.0   2.2  190.0   9.4  1009.0   5.0   \n",
      "2023-01-01 04:00:00  10.3  10.1   99.0   0.7  260.0  11.2  1009.0   5.0   \n",
      "...                   ...   ...    ...   ...    ...   ...     ...   ...   \n",
      "2023-06-30 19:00:00  27.8  17.9   55.0   0.0  220.0  13.0  1017.4   5.0   \n",
      "2023-06-30 20:00:00  27.8  16.1   49.0   0.2  220.0   9.4  1017.2   5.0   \n",
      "2023-06-30 21:00:00  27.8  16.1   49.0   0.2  150.0   9.4  1017.2   5.0   \n",
      "2023-06-30 22:00:00  25.6  15.0   52.0   0.0  170.0   9.4  1017.2   3.0   \n",
      "2023-06-30 23:00:00  24.4  15.1   56.0   0.0  160.0   9.4  1017.4   3.0   \n",
      "\n",
      "                            location  \n",
      "time                                  \n",
      "2023-01-01 00:00:00  Lower Manhattan  \n",
      "2023-01-01 01:00:00  Lower Manhattan  \n",
      "2023-01-01 02:00:00  Lower Manhattan  \n",
      "2023-01-01 03:00:00  Lower Manhattan  \n",
      "2023-01-01 04:00:00  Lower Manhattan  \n",
      "...                              ...  \n",
      "2023-06-30 19:00:00  Lower Manhattan  \n",
      "2023-06-30 20:00:00  Lower Manhattan  \n",
      "2023-06-30 21:00:00  Lower Manhattan  \n",
      "2023-06-30 22:00:00  Lower Manhattan  \n",
      "2023-06-30 23:00:00  Lower Manhattan  \n",
      "\n",
      "[4344 rows x 9 columns]\n"
     ]
    }
   ],
   "source": [
    "\n",
    "location = Point(40.7131, -74.0072, 0)\n",
    "\n",
    "# 날짜 및 시간 범위 설정\n",
    "start = datetime(2023, 1, 1, 0)\n",
    "end = datetime(2023, 6, 30, 23)\n",
    "\n",
    "# 데이터 요청\n",
    "data = Hourly(location, start, end)\n",
    "data = data.fetch()\n",
    "\n",
    "data['location'] = \"Lower Manhattan\"\n",
    "\n",
    "# 제거할 컬럼 정의\n",
    "columns_to_remove = ['snow', 'wpgt', 'tsun']\n",
    "\n",
    "# 지정된 컬럼 제거\n",
    "data = data.drop(columns=columns_to_remove, errors='ignore')\n",
    "\n",
    "# CSV로 저장\n",
    "csv_filename = \"Lower Manhattan_hourly_weather.csv\"  # 저장할 파일 이름\n",
    "data.to_csv(csv_filename, index=True, encoding='utf-8')  # 인덱스를 포함해서 저장\n",
    "print(f\"데이터가 '{csv_filename}'로 저장되었습니다.\")\n",
    "print(data)\n",
    "\n",
    "\n"
   ]
  }
 ],
 "metadata": {
  "kernelspec": {
   "display_name": "Python 3 (ipykernel)",
   "language": "python",
   "name": "python3"
  },
  "language_info": {
   "codemirror_mode": {
    "name": "ipython",
    "version": 3
   },
   "file_extension": ".py",
   "mimetype": "text/x-python",
   "name": "python",
   "nbconvert_exporter": "python",
   "pygments_lexer": "ipython3",
   "version": "3.9.13"
  }
 },
 "nbformat": 4,
 "nbformat_minor": 5
}
